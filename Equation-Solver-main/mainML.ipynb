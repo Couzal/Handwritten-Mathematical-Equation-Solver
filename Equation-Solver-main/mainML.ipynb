{
 "cells": [
  {
   "cell_type": "raw",
   "id": "2d8074b5",
   "metadata": {},
   "source": []
  },
  {
   "cell_type": "code",
   "execution_count": 2,
   "id": "55a90efd",
   "metadata": {},
   "outputs": [],
   "source": [
    "import numpy as np\n",
    "import pandas as pd \n",
    "import cv2\n",
    "import matplotlib.pyplot as plt\n",
    "from sklearn.model_selection import train_test_split\n",
    "import tensorflow as tf\n",
    "from keras.models import Sequential, load_model\n",
    "from keras.callbacks import EarlyStopping, ModelCheckpoint\n",
    "from keras import layers\n",
    "from keras.layers import *\n",
    "from keras.utils import np_utils\n",
    "import os\n"
   ]
  },
  {
   "cell_type": "code",
   "execution_count": 3,
   "id": "730512bf",
   "metadata": {},
   "outputs": [
    {
     "name": "stdout",
     "output_type": "stream",
     "text": [
      "C:/Users/devar/mj2/dataset\\emnist-balanced-mapping.txt\n",
      "C:/Users/devar/mj2/dataset\\emnist-balanced-test.csv\n",
      "C:/Users/devar/mj2/dataset\\emnist-balanced-train.csv\n",
      "C:/Users/devar/mj2/dataset\\emnist-byclass-mapping.txt\n",
      "C:/Users/devar/mj2/dataset\\emnist-byclass-test.csv\n",
      "C:/Users/devar/mj2/dataset\\emnist-byclass-train.csv\n",
      "C:/Users/devar/mj2/dataset\\emnist-bymerge-mapping.txt\n",
      "C:/Users/devar/mj2/dataset\\emnist-bymerge-test.csv\n",
      "C:/Users/devar/mj2/dataset\\emnist-bymerge-train.csv\n",
      "C:/Users/devar/mj2/dataset\\emnist-digits-mapping.txt\n",
      "C:/Users/devar/mj2/dataset\\emnist-digits-test.csv\n",
      "C:/Users/devar/mj2/dataset\\emnist-digits-train.csv\n",
      "C:/Users/devar/mj2/dataset\\emnist-letters-mapping.txt\n",
      "C:/Users/devar/mj2/dataset\\emnist-letters-test.csv\n",
      "C:/Users/devar/mj2/dataset\\emnist-letters-train.csv\n",
      "C:/Users/devar/mj2/dataset\\emnist-mnist-mapping.txt\n",
      "C:/Users/devar/mj2/dataset\\emnist-mnist-test.csv\n",
      "C:/Users/devar/mj2/dataset\\emnist-mnist-train.csv\n",
      "C:/Users/devar/mj2/dataset\\emnist_source_files\\emnist-balanced-test-images-idx3-ubyte\n",
      "C:/Users/devar/mj2/dataset\\emnist_source_files\\emnist-balanced-test-labels-idx1-ubyte\n",
      "C:/Users/devar/mj2/dataset\\emnist_source_files\\emnist-balanced-train-images-idx3-ubyte\n",
      "C:/Users/devar/mj2/dataset\\emnist_source_files\\emnist-balanced-train-labels-idx1-ubyte\n",
      "C:/Users/devar/mj2/dataset\\emnist_source_files\\emnist-byclass-test-images-idx3-ubyte\n",
      "C:/Users/devar/mj2/dataset\\emnist_source_files\\emnist-byclass-test-labels-idx1-ubyte\n",
      "C:/Users/devar/mj2/dataset\\emnist_source_files\\emnist-byclass-train-images-idx3-ubyte\n",
      "C:/Users/devar/mj2/dataset\\emnist_source_files\\emnist-byclass-train-labels-idx1-ubyte\n",
      "C:/Users/devar/mj2/dataset\\emnist_source_files\\emnist-bymerge-test-images-idx3-ubyte\n",
      "C:/Users/devar/mj2/dataset\\emnist_source_files\\emnist-bymerge-test-labels-idx1-ubyte\n",
      "C:/Users/devar/mj2/dataset\\emnist_source_files\\emnist-bymerge-train-images-idx3-ubyte\n",
      "C:/Users/devar/mj2/dataset\\emnist_source_files\\emnist-bymerge-train-labels-idx1-ubyte\n",
      "C:/Users/devar/mj2/dataset\\emnist_source_files\\emnist-digits-test-images-idx3-ubyte\n",
      "C:/Users/devar/mj2/dataset\\emnist_source_files\\emnist-digits-test-labels-idx1-ubyte\n",
      "C:/Users/devar/mj2/dataset\\emnist_source_files\\emnist-digits-train-images-idx3-ubyte\n",
      "C:/Users/devar/mj2/dataset\\emnist_source_files\\emnist-digits-train-labels-idx1-ubyte\n",
      "C:/Users/devar/mj2/dataset\\emnist_source_files\\emnist-letters-test-images-idx3-ubyte\n",
      "C:/Users/devar/mj2/dataset\\emnist_source_files\\emnist-letters-test-labels-idx1-ubyte\n",
      "C:/Users/devar/mj2/dataset\\emnist_source_files\\emnist-letters-train-images-idx3-ubyte\n",
      "C:/Users/devar/mj2/dataset\\emnist_source_files\\emnist-letters-train-labels-idx1-ubyte\n",
      "C:/Users/devar/mj2/dataset\\emnist_source_files\\emnist-mnist-test-images-idx3-ubyte\n",
      "C:/Users/devar/mj2/dataset\\emnist_source_files\\emnist-mnist-test-labels-idx1-ubyte\n",
      "C:/Users/devar/mj2/dataset\\emnist_source_files\\emnist-mnist-train-images-idx3-ubyte\n",
      "C:/Users/devar/mj2/dataset\\emnist_source_files\\emnist-mnist-train-labels-idx1-ubyte\n"
     ]
    }
   ],
   "source": [
    "for dirname, _, filenames in os.walk('C:/Users/devar/mj2/dataset'):\n",
    "    for filename in filenames:\n",
    "        print(os.path.join(dirname, filename))"
   ]
  },
  {
   "cell_type": "code",
   "execution_count": 4,
   "id": "3cdc0ace",
   "metadata": {},
   "outputs": [
    {
     "data": {
      "text/html": [
       "<div>\n",
       "<style scoped>\n",
       "    .dataframe tbody tr th:only-of-type {\n",
       "        vertical-align: middle;\n",
       "    }\n",
       "\n",
       "    .dataframe tbody tr th {\n",
       "        vertical-align: top;\n",
       "    }\n",
       "\n",
       "    .dataframe thead th {\n",
       "        text-align: right;\n",
       "    }\n",
       "</style>\n",
       "<table border=\"1\" class=\"dataframe\">\n",
       "  <thead>\n",
       "    <tr style=\"text-align: right;\">\n",
       "      <th></th>\n",
       "      <th>0</th>\n",
       "      <th>1</th>\n",
       "      <th>2</th>\n",
       "      <th>3</th>\n",
       "      <th>4</th>\n",
       "      <th>5</th>\n",
       "      <th>6</th>\n",
       "      <th>7</th>\n",
       "      <th>8</th>\n",
       "      <th>9</th>\n",
       "      <th>...</th>\n",
       "      <th>775</th>\n",
       "      <th>776</th>\n",
       "      <th>777</th>\n",
       "      <th>778</th>\n",
       "      <th>779</th>\n",
       "      <th>780</th>\n",
       "      <th>781</th>\n",
       "      <th>782</th>\n",
       "      <th>783</th>\n",
       "      <th>784</th>\n",
       "    </tr>\n",
       "  </thead>\n",
       "  <tbody>\n",
       "    <tr>\n",
       "      <th>0</th>\n",
       "      <td>8</td>\n",
       "      <td>0</td>\n",
       "      <td>0</td>\n",
       "      <td>0</td>\n",
       "      <td>0</td>\n",
       "      <td>0</td>\n",
       "      <td>0</td>\n",
       "      <td>0</td>\n",
       "      <td>0</td>\n",
       "      <td>0</td>\n",
       "      <td>...</td>\n",
       "      <td>0</td>\n",
       "      <td>0</td>\n",
       "      <td>0</td>\n",
       "      <td>0</td>\n",
       "      <td>0</td>\n",
       "      <td>0</td>\n",
       "      <td>0</td>\n",
       "      <td>0</td>\n",
       "      <td>0</td>\n",
       "      <td>0</td>\n",
       "    </tr>\n",
       "    <tr>\n",
       "      <th>1</th>\n",
       "      <td>9</td>\n",
       "      <td>0</td>\n",
       "      <td>0</td>\n",
       "      <td>0</td>\n",
       "      <td>0</td>\n",
       "      <td>0</td>\n",
       "      <td>0</td>\n",
       "      <td>0</td>\n",
       "      <td>0</td>\n",
       "      <td>0</td>\n",
       "      <td>...</td>\n",
       "      <td>0</td>\n",
       "      <td>0</td>\n",
       "      <td>0</td>\n",
       "      <td>0</td>\n",
       "      <td>0</td>\n",
       "      <td>0</td>\n",
       "      <td>0</td>\n",
       "      <td>0</td>\n",
       "      <td>0</td>\n",
       "      <td>0</td>\n",
       "    </tr>\n",
       "    <tr>\n",
       "      <th>2</th>\n",
       "      <td>6</td>\n",
       "      <td>0</td>\n",
       "      <td>0</td>\n",
       "      <td>0</td>\n",
       "      <td>0</td>\n",
       "      <td>0</td>\n",
       "      <td>0</td>\n",
       "      <td>0</td>\n",
       "      <td>0</td>\n",
       "      <td>0</td>\n",
       "      <td>...</td>\n",
       "      <td>0</td>\n",
       "      <td>0</td>\n",
       "      <td>0</td>\n",
       "      <td>0</td>\n",
       "      <td>0</td>\n",
       "      <td>0</td>\n",
       "      <td>0</td>\n",
       "      <td>0</td>\n",
       "      <td>0</td>\n",
       "      <td>0</td>\n",
       "    </tr>\n",
       "    <tr>\n",
       "      <th>3</th>\n",
       "      <td>3</td>\n",
       "      <td>0</td>\n",
       "      <td>0</td>\n",
       "      <td>0</td>\n",
       "      <td>0</td>\n",
       "      <td>0</td>\n",
       "      <td>0</td>\n",
       "      <td>0</td>\n",
       "      <td>0</td>\n",
       "      <td>0</td>\n",
       "      <td>...</td>\n",
       "      <td>0</td>\n",
       "      <td>0</td>\n",
       "      <td>0</td>\n",
       "      <td>0</td>\n",
       "      <td>0</td>\n",
       "      <td>0</td>\n",
       "      <td>0</td>\n",
       "      <td>0</td>\n",
       "      <td>0</td>\n",
       "      <td>0</td>\n",
       "    </tr>\n",
       "    <tr>\n",
       "      <th>4</th>\n",
       "      <td>6</td>\n",
       "      <td>0</td>\n",
       "      <td>0</td>\n",
       "      <td>0</td>\n",
       "      <td>0</td>\n",
       "      <td>0</td>\n",
       "      <td>0</td>\n",
       "      <td>0</td>\n",
       "      <td>0</td>\n",
       "      <td>0</td>\n",
       "      <td>...</td>\n",
       "      <td>0</td>\n",
       "      <td>0</td>\n",
       "      <td>0</td>\n",
       "      <td>0</td>\n",
       "      <td>0</td>\n",
       "      <td>0</td>\n",
       "      <td>0</td>\n",
       "      <td>0</td>\n",
       "      <td>0</td>\n",
       "      <td>0</td>\n",
       "    </tr>\n",
       "  </tbody>\n",
       "</table>\n",
       "<p>5 rows × 785 columns</p>\n",
       "</div>"
      ],
      "text/plain": [
       "   0    1    2    3    4    5    6    7    8    9    ...  775  776  777  778  \\\n",
       "0    8    0    0    0    0    0    0    0    0    0  ...    0    0    0    0   \n",
       "1    9    0    0    0    0    0    0    0    0    0  ...    0    0    0    0   \n",
       "2    6    0    0    0    0    0    0    0    0    0  ...    0    0    0    0   \n",
       "3    3    0    0    0    0    0    0    0    0    0  ...    0    0    0    0   \n",
       "4    6    0    0    0    0    0    0    0    0    0  ...    0    0    0    0   \n",
       "\n",
       "   779  780  781  782  783  784  \n",
       "0    0    0    0    0    0    0  \n",
       "1    0    0    0    0    0    0  \n",
       "2    0    0    0    0    0    0  \n",
       "3    0    0    0    0    0    0  \n",
       "4    0    0    0    0    0    0  \n",
       "\n",
       "[5 rows x 785 columns]"
      ]
     },
     "execution_count": 4,
     "metadata": {},
     "output_type": "execute_result"
    }
   ],
   "source": [
    "train_df = pd.read_csv('C:/Users/devar/mj2/dataset/emnist-balanced-train.csv', header=None)\n",
    "train_df_digit=pd.read_csv('C:/Users/devar/mj2/dataset/emnist-digits-train.csv',header=None)\n",
    "train_df_letters=pd.read_csv('C:/Users/devar/mj2/dataset/emnist-letters-train.csv')\n",
    "train_df.head()\n",
    "train_df_digit.head()\n"
   ]
  },
  {
   "cell_type": "code",
   "execution_count": 5,
   "id": "ab6c07be",
   "metadata": {},
   "outputs": [
    {
     "data": {
      "text/plain": [
       "26"
      ]
     },
     "execution_count": 5,
     "metadata": {},
     "output_type": "execute_result"
    }
   ],
   "source": [
    "\n",
    "train_df_letters['23'].max()"
   ]
  },
  {
   "cell_type": "code",
   "execution_count": 6,
   "id": "711769b7",
   "metadata": {},
   "outputs": [],
   "source": [
    "X_train = train_df.loc[:, 1:]\n",
    "y_train = train_df.loc[:, 0]"
   ]
  },
  {
   "cell_type": "code",
   "execution_count": 7,
   "id": "39afe1a2",
   "metadata": {},
   "outputs": [],
   "source": [
    "label_map = pd.read_csv(\"C:/Users/devar/mj2/dataset/emnist-balanced-mapping.txt\", \n",
    "                        delimiter = ' ', \n",
    "                        index_col=0, \n",
    "                        header=None, \n",
    "                        squeeze=True)\n",
    "label_map.head()\n",
    "label_dictionary = {}\n",
    "for index, label in enumerate(label_map):\n",
    "    label_dictionary[index] = chr(label)"
   ]
  },
  {
   "cell_type": "code",
   "execution_count": 8,
   "id": "b6751539",
   "metadata": {},
   "outputs": [
    {
     "data": {
      "text/plain": [
       "{0: '0',\n",
       " 1: '1',\n",
       " 2: '2',\n",
       " 3: '3',\n",
       " 4: '4',\n",
       " 5: '5',\n",
       " 6: '6',\n",
       " 7: '7',\n",
       " 8: '8',\n",
       " 9: '9',\n",
       " 10: 'A',\n",
       " 11: 'B',\n",
       " 12: 'C',\n",
       " 13: 'D',\n",
       " 14: 'E',\n",
       " 15: 'F',\n",
       " 16: 'G',\n",
       " 17: 'H',\n",
       " 18: 'I',\n",
       " 19: 'J',\n",
       " 20: 'K',\n",
       " 21: 'L',\n",
       " 22: 'M',\n",
       " 23: 'N',\n",
       " 24: 'O',\n",
       " 25: 'P',\n",
       " 26: 'Q',\n",
       " 27: 'R',\n",
       " 28: 'S',\n",
       " 29: 'T',\n",
       " 30: 'U',\n",
       " 31: 'V',\n",
       " 32: 'W',\n",
       " 33: 'X',\n",
       " 34: 'Y',\n",
       " 35: 'Z',\n",
       " 36: 'a',\n",
       " 37: 'b',\n",
       " 38: 'd',\n",
       " 39: 'e',\n",
       " 40: 'f',\n",
       " 41: 'g',\n",
       " 42: 'h',\n",
       " 43: 'n',\n",
       " 44: 'q',\n",
       " 45: 'r',\n",
       " 46: 't'}"
      ]
     },
     "execution_count": 8,
     "metadata": {},
     "output_type": "execute_result"
    }
   ],
   "source": [
    "label_dictionary"
   ]
  },
  {
   "cell_type": "code",
   "execution_count": 9,
   "id": "b57a3c97",
   "metadata": {},
   "outputs": [
    {
     "data": {
      "text/plain": [
       "((784,), 23)"
      ]
     },
     "execution_count": 9,
     "metadata": {},
     "output_type": "execute_result"
    }
   ],
   "source": [
    "sample_image = X_train.iloc[42]\n",
    "sample_label = y_train.iloc[42]\n",
    "sample_image.shape, sample_label\n"
   ]
  },
  {
   "cell_type": "code",
   "execution_count": 10,
   "id": "88ee40b5",
   "metadata": {},
   "outputs": [
    {
     "name": "stdout",
     "output_type": "stream",
     "text": [
      "Label entry 42: N\n"
     ]
    },
    {
     "data": {
      "image/png": "[encoded data removed]",
      "text/plain": [
       "<Figure size 432x288 with 1 Axes>"
      ]
     },
     "metadata": {
      "needs_background": "light"
     },
     "output_type": "display_data"
    }
   ],
   "source": [
    "W = 28\n",
    "H = 28\n",
    "print(\"Label entry 42:\", label_dictionary[sample_label])\n",
    "plt.imshow(sample_image.values.reshape(W, H), cmap=plt.cm.gray)\n",
    "plt.show()\n",
    "def reshape_and_rotate(image):\n",
    "    W = 28\n",
    "    H = 28\n",
    "    image = image.reshape(W, H)\n",
    "    image = np.fliplr(image)\n",
    "    image = np.rot90(image)\n",
    "    return image"
   ]
  },
  {
   "cell_type": "code",
   "execution_count": 11,
   "id": "9b4b3570",
   "metadata": {},
   "outputs": [
    {
     "data": {
      "text/plain": [
       "(112800, 28, 28)"
      ]
     },
     "execution_count": 11,
     "metadata": {},
     "output_type": "execute_result"
    }
   ],
   "source": [
    "X_train = np.apply_along_axis(reshape_and_rotate, 1, X_train.values)\n",
    "X_train.shape"
   ]
  },
  {
   "cell_type": "code",
   "execution_count": 12,
   "id": "7e3120ba",
   "metadata": {},
   "outputs": [
    {
     "name": "stdout",
     "output_type": "stream",
     "text": [
      "Label entry 42: N\n"
     ]
    },
    {
     "data": {
      "image/png": "[encoded data removed]",
      "text/plain": [
       "<Figure size 432x288 with 1 Axes>"
      ]
     },
     "metadata": {
      "needs_background": "light"
     },
     "output_type": "display_data"
    }
   ],
   "source": [
    "sample_image = X_train[42]\n",
    "sample_label = y_train.iloc[42]\n",
    "print(\"Label entry 42:\", label_dictionary[sample_label])\n",
    "plt.imshow(sample_image.reshape(W, H), cmap=plt.cm.gray)\n",
    "plt.show()"
   ]
  },
  {
   "cell_type": "code",
   "execution_count": 13,
   "id": "35fa742d",
   "metadata": {},
   "outputs": [
    {
     "data": {
      "image/png": "[encoded data removed]",
      "text/plain": [
       "<Figure size 432x288 with 6 Axes>"
      ]
     },
     "metadata": {
      "needs_background": "light"
     },
     "output_type": "display_data"
    }
   ],
   "source": [
    "for i in range(100, 106):\n",
    "    plt.subplot(390 + (i+1))\n",
    "    plt.imshow(X_train[i], cmap=plt.cm.gray)\n",
    "    plt.title(label_dictionary[y_train[i]])"
   ]
  },
  {
   "cell_type": "code",
   "execution_count": 14,
   "id": "2500011e",
   "metadata": {},
   "outputs": [
    {
     "data": {
      "text/plain": [
       "47"
      ]
     },
     "execution_count": 14,
     "metadata": {},
     "output_type": "execute_result"
    }
   ],
   "source": [
    "X_train = X_train.astype('float32') / 255\n",
    "number_of_classes = y_train.nunique()\n",
    "number_of_classes"
   ]
  },
  {
   "cell_type": "code",
   "execution_count": 15,
   "id": "9d7fd08d",
   "metadata": {},
   "outputs": [
    {
     "data": {
      "text/plain": [
       "(112800, 47)"
      ]
     },
     "execution_count": 15,
     "metadata": {},
     "output_type": "execute_result"
    }
   ],
   "source": [
    "y_train = np_utils.to_categorical(y_train, number_of_classes)\n",
    "y_train.shape"
   ]
  },
  {
   "cell_type": "code",
   "execution_count": 16,
   "id": "c004e51e",
   "metadata": {},
   "outputs": [
    {
     "data": {
      "text/plain": [
       "(112800, 28, 28, 1)"
      ]
     },
     "execution_count": 16,
     "metadata": {},
     "output_type": "execute_result"
    }
   ],
   "source": [
    "X_train = X_train.reshape(-1, W, H, 1)\n",
    "X_train.shape"
   ]
  },
  {
   "cell_type": "code",
   "execution_count": 17,
   "id": "d29bca87",
   "metadata": {},
   "outputs": [],
   "source": [
    "X_train, X_val, y_train, y_val = train_test_split(X_train, \n",
    "                                                  y_train, \n",
    "                                                  test_size= 0.20, \n",
    "                                                  random_state=20)"
   ]
  },
  {
   "cell_type": "code",
   "execution_count": 18,
   "id": "9e59bd9b",
   "metadata": {},
   "outputs": [
    {
     "name": "stdout",
     "output_type": "stream",
     "text": [
      "Model: \"sequential\"\n",
      "_________________________________________________________________\n",
      "Layer (type)                 Output Shape              Param #   \n",
      "=================================================================\n",
      "conv2d (Conv2D)              (None, 26, 26, 64)        640       \n",
      "_________________________________________________________________\n",
      "batch_normalization (BatchNo (None, 26, 26, 64)        256       \n",
      "_________________________________________________________________\n",
      "max_pooling2d (MaxPooling2D) (None, 13, 13, 64)        0         \n",
      "_________________________________________________________________\n",
      "dropout (Dropout)            (None, 13, 13, 64)        0         \n",
      "_________________________________________________________________\n",
      "conv2d_1 (Conv2D)            (None, 11, 11, 128)       73856     \n",
      "_________________________________________________________________\n",
      "batch_normalization_1 (Batch (None, 11, 11, 128)       512       \n",
      "_________________________________________________________________\n",
      "max_pooling2d_1 (MaxPooling2 (None, 5, 5, 128)         0         \n",
      "_________________________________________________________________\n",
      "dropout_1 (Dropout)          (None, 5, 5, 128)         0         \n",
      "_________________________________________________________________\n",
      "flatten (Flatten)            (None, 3200)              0         \n",
      "_________________________________________________________________\n",
      "dense (Dense)                (None, 256)               819456    \n",
      "_________________________________________________________________\n",
      "batch_normalization_2 (Batch (None, 256)               1024      \n",
      "_________________________________________________________________\n",
      "dropout_2 (Dropout)          (None, 256)               0         \n",
      "_________________________________________________________________\n",
      "flatten_1 (Flatten)          (None, 256)               0         \n",
      "_________________________________________________________________\n",
      "dense_1 (Dense)              (None, 50)                12850     \n",
      "_________________________________________________________________\n",
      "dense_2 (Dense)              (None, 100)               5100      \n",
      "_________________________________________________________________\n",
      "dense_3 (Dense)              (None, 47)                4747      \n",
      "=================================================================\n",
      "Total params: 918,441\n",
      "Trainable params: 917,545\n",
      "Non-trainable params: 896\n",
      "_________________________________________________________________\n"
     ]
    }
   ],
   "source": [
    "model = Sequential()\n",
    "model.add(layers.Conv2D(filters=64, kernel_size=(3,3), activation='relu', input_shape=(W, H, 1)))\n",
    "model.add(BatchNormalization())\n",
    "model.add(layers.MaxPool2D(pool_size=(2, 2)))\n",
    "model.add(Dropout(0.25))\n",
    "model.add(layers.Conv2D(filters=128, kernel_size=(3,3), activation='relu'))\n",
    "model.add(BatchNormalization())\n",
    "model.add(layers.MaxPool2D(pool_size=(2, 2)))\n",
    "model.add(Dropout(0.25))\n",
    "model.add(Flatten())\n",
    "model.add(Dense(256, activation='relu'))\n",
    "model.add(BatchNormalization())\n",
    "model.add(Dropout(0.5))\n",
    "model.add(layers.Flatten())\n",
    "model.add(layers.Dense(50, activation='relu'))\n",
    "model.add(layers.Dense(100, activation='relu'))\n",
    "model.add(layers.Dense(number_of_classes, activation='softmax'))\n",
    "model.summary()"
   ]
  },
  {
   "cell_type": "code",
   "execution_count": 19,
   "id": "be876245",
   "metadata": {},
   "outputs": [],
   "source": [
    "optimizer_name = 'adam'\n",
    "model.compile(loss='categorical_crossentropy', optimizer=optimizer_name, metrics=['accuracy'])"
   ]
  },
  {
   "cell_type": "code",
   "execution_count": 20,
   "id": "bd0a1b1d",
   "metadata": {},
   "outputs": [],
   "source": [
    "from keras.preprocessing.image import ImageDataGenerator\n",
    "datagen = ImageDataGenerator()\n",
    "datagen.fit(X_train)\n",
    "train_gen = datagen.flow(X_train, y_train, batch_size=32)"
   ]
  },
  {
   "cell_type": "code",
   "execution_count": 28,
   "id": "e2c4c44b",
   "metadata": {},
   "outputs": [
    {
     "name": "stdout",
     "output_type": "stream",
     "text": [
      "Epoch 1/15\n",
      "2820/2820 [==============================] - 124s 44ms/step - loss: 0.3542 - accuracy: 0.8704 - val_loss: 0.3287 - val_accuracy: 0.8828\n",
      "Epoch 2/15\n",
      "2820/2820 [==============================] - 128s 45ms/step - loss: 0.3464 - accuracy: 0.8732 - val_loss: 0.3128 - val_accuracy: 0.8867\n",
      "Epoch 3/15\n",
      "2820/2820 [==============================] - 124s 44ms/step - loss: 0.3454 - accuracy: 0.8733 - val_loss: 0.3137 - val_accuracy: 0.8865\n",
      "Epoch 4/15\n",
      "2820/2820 [==============================] - 122s 43ms/step - loss: 0.3345 - accuracy: 0.8769 - val_loss: 0.3162 - val_accuracy: 0.8862\n",
      "Epoch 5/15\n",
      "2820/2820 [==============================] - 122s 43ms/step - loss: 0.3287 - accuracy: 0.8771 - val_loss: 0.3116 - val_accuracy: 0.8862\n",
      "Epoch 6/15\n",
      "2820/2820 [==============================] - 122s 43ms/step - loss: 0.3249 - accuracy: 0.8790 - val_loss: 0.3179 - val_accuracy: 0.8857\n",
      "Epoch 7/15\n",
      "2820/2820 [==============================] - 125s 44ms/step - loss: 0.3216 - accuracy: 0.8805 - val_loss: 0.3167 - val_accuracy: 0.8882\n",
      "Epoch 8/15\n",
      "2820/2820 [==============================] - 134s 48ms/step - loss: 0.3162 - accuracy: 0.8822 - val_loss: 0.3146 - val_accuracy: 0.8875\n",
      "Epoch 9/15\n",
      "2820/2820 [==============================] - 141s 50ms/step - loss: 0.3142 - accuracy: 0.8826 - val_loss: 0.3132 - val_accuracy: 0.8906\n",
      "Epoch 10/15\n",
      "2820/2820 [==============================] - 135s 48ms/step - loss: 0.3103 - accuracy: 0.8839 - val_loss: 0.3127 - val_accuracy: 0.8881\n",
      "Epoch 00010: early stopping\n"
     ]
    }
   ],
   "source": [
    "from keras.callbacks import EarlyStopping, ReduceLROnPlateau\n",
    "\n",
    "early_stopping = EarlyStopping(monitor='val_loss', patience=5, verbose=1, mode='min')\n",
    "learning_rate_reduction = ReduceLROnPlateau(monitor='val_accuracy', \n",
    "                                            patience=5, \n",
    "                                            verbose=1,  \n",
    "                                            factor=0.5, \n",
    "                                            min_lr=0.001)\n",
    "callback = [early_stopping, learning_rate_reduction]\n",
    "history = model.fit_generator(train_gen, steps_per_epoch=len(X_train)/32, epochs=15, \\\n",
    "                             validation_data=(X_val, y_val),callbacks=callback)"
   ]
  },
  {
   "cell_type": "code",
   "execution_count": 27,
   "id": "ef93edd9",
   "metadata": {},
   "outputs": [
    {
     "ename": "AttributeError",
     "evalue": "'History' object has no attribute 'evaluate'",
     "output_type": "error",
     "traceback": [
      "\u001b[1;31m---------------------------------------------------------------------------\u001b[0m",
      "\u001b[1;31mAttributeError\u001b[0m                            Traceback (most recent call last)",
      "\u001b[1;32m~\\AppData\\Local\\Temp/ipykernel_29108/3072345075.py\u001b[0m in \u001b[0;36m<module>\u001b[1;34m\u001b[0m\n\u001b[1;32m----> 1\u001b[1;33m \u001b[0mhistory\u001b[0m\u001b[1;33m.\u001b[0m\u001b[0mevaluate\u001b[0m\u001b[1;33m(\u001b[0m\u001b[0mX_val\u001b[0m\u001b[1;33m,\u001b[0m \u001b[0my_val\u001b[0m\u001b[1;33m)\u001b[0m\u001b[1;33m\u001b[0m\u001b[1;33m\u001b[0m\u001b[0m\n\u001b[0m",
      "\u001b[1;31mAttributeError\u001b[0m: 'History' object has no attribute 'evaluate'"
     ]
    }
   ],
   "source": [
    "history.(X_val, y_val)"
   ]
  },
  {
   "cell_type": "code",
   "execution_count": 32,
   "id": "e524a6a0",
   "metadata": {},
   "outputs": [
    {
     "name": "stdout",
     "output_type": "stream",
     "text": [
      "Epoch 1/10\n",
      "722/722 [==============================] - 115s 159ms/step - loss: 0.2941 - accuracy: 0.8899 - val_loss: 0.2255 - val_accuracy: 0.9118\n",
      "Epoch 2/10\n",
      "722/722 [==============================] - 110s 153ms/step - loss: 0.2882 - accuracy: 0.8905 - val_loss: 0.2285 - val_accuracy: 0.9122\n",
      "Epoch 3/10\n",
      "722/722 [==============================] - 108s 150ms/step - loss: 0.2805 - accuracy: 0.8929 - val_loss: 0.2351 - val_accuracy: 0.9081\n",
      "Epoch 4/10\n",
      "722/722 [==============================] - 114s 157ms/step - loss: 0.2765 - accuracy: 0.8935 - val_loss: 0.2439 - val_accuracy: 0.9072\n",
      "Epoch 00004: early stopping\n"
     ]
    }
   ],
   "source": [
    "from keras.callbacks import EarlyStopping, ReduceLROnPlateau\n",
    "\n",
    "early_stopping = EarlyStopping(monitor='val_loss', patience=3, verbose=1, mode='min')\n",
    "learning_rate_reduction = ReduceLROnPlateau(monitor='val_accuracy', \n",
    "                                            patience=2, \n",
    "                                            verbose=1,  \n",
    "                                            factor=0.5, \n",
    "                                            min_lr=0.001)\n",
    "callback = [early_stopping, learning_rate_reduction]\n",
    "history = model.fit(X_train,\n",
    "                    y_train, \n",
    "                    epochs=20, \n",
    "                    batch_size=100, \n",
    "                    verbose=1,\n",
    "                    validation_split=0.2,\n",
    "                   callbacks=callback)"
   ]
  },
  {
   "cell_type": "code",
   "execution_count": 22,
   "id": "bed937a3",
   "metadata": {},
   "outputs": [
    {
     "name": "stdout",
     "output_type": "stream",
     "text": [
      "705/705 [==============================] - 10s 13ms/step - loss: 0.3211 - accuracy: 0.8832\n"
     ]
    },
    {
     "data": {
      "text/plain": [
       "[0.3211241662502289, 0.8832446932792664]"
      ]
     },
     "execution_count": 22,
     "metadata": {},
     "output_type": "execute_result"
    }
   ],
   "source": [
    "model.evaluate(X_val, y_val)"
   ]
  },
  {
   "cell_type": "code",
   "execution_count": 23,
   "id": "1eac54ea",
   "metadata": {},
   "outputs": [
    {
     "name": "stdout",
     "output_type": "stream",
     "text": [
      "705/705 [==============================] - 11s 15ms/step - loss: 0.3211 - accuracy: 0.8832\n",
      "Score: loss of 0.3211; accuracy of 88.3245%\n"
     ]
    }
   ],
   "source": [
    "scores = model.evaluate(X_val, y_val, verbose = 1)\n",
    "print(f'Score: {model.metrics_names[0]} of {round(scores[0], 4)}; '\n",
    "      f'{model.metrics_names[1]} of {round((scores[1]*100), 4)}%')"
   ]
  },
  {
   "cell_type": "code",
   "execution_count": null,
   "id": "f209a440",
   "metadata": {},
   "outputs": [],
   "source": []
  },
  {
   "cell_type": "code",
   "execution_count": null,
   "id": "92f8788e",
   "metadata": {},
   "outputs": [],
   "source": []
  },
  {
   "cell_type": "code",
   "execution_count": 29,
   "id": "3fafc8a5",
   "metadata": {},
   "outputs": [],
   "source": [
    "accuracy = history.history['accuracy']\n",
    "val_accuracy = history.history['val_accuracy']\n",
    "loss = history.history['loss']\n",
    "val_loss = history.history['val_loss']\n",
    "epochs = list(range(1,len(val_accuracy)+1))"
   ]
  },
  {
   "cell_type": "code",
   "execution_count": 30,
   "id": "cea9e5b4",
   "metadata": {},
   "outputs": [],
   "source": [
    "def plotgraphacc(epochs, acc, val_acc):\n",
    "    # Plot training & validation accuracy values\n",
    "    plt.plot(epochs, acc, 'b')\n",
    "    plt.plot(epochs, val_acc, 'r')\n",
    "    plt.title('Model accuracy')\n",
    "    plt.ylabel('Accuracy')\n",
    "    plt.xlabel('Epochs')\n",
    "    plt.legend(['Train', 'Val'], loc='upper left')\n",
    "    plt.show()\n",
    "def plotgraphloss(epochs, loss, val_loss):\n",
    "    # Plot training & validation accuracy values\n",
    "    plt.plot(epochs, loss, 'b')\n",
    "    plt.plot(epochs, val_loss, 'r')\n",
    "    plt.title('Model accuracy')\n",
    "    plt.ylabel('Loos')\n",
    "    plt.xlabel('Epochs')\n",
    "    plt.legend(['Train', 'Val'], loc='upper left')\n",
    "    plt.show()"
   ]
  },
  {
   "cell_type": "code",
   "execution_count": 31,
   "id": "7ca42b09",
   "metadata": {},
   "outputs": [
    {
     "data": {
      "image/png": "[encoded data removed]",
      "text/plain": [
       "<Figure size 432x288 with 1 Axes>"
      ]
     },
     "metadata": {
      "needs_background": "light"
     },
     "output_type": "display_data"
    }
   ],
   "source": [
    "plotgraphacc(epochs, accuracy, val_accuracy)"
   ]
  },
  {
   "cell_type": "code",
   "execution_count": 32,
   "id": "4cc71135",
   "metadata": {},
   "outputs": [
    {
     "data": {
      "image/png": "[encoded data removed]",
      "text/plain": [
       "<Figure size 432x288 with 1 Axes>"
      ]
     },
     "metadata": {
      "needs_background": "light"
     },
     "output_type": "display_data"
    }
   ],
   "source": [
    "plotgraphloss(epochs, loss, val_loss)"
   ]
  },
  {
   "cell_type": "code",
   "execution_count": null,
   "id": "acbff3cf",
   "metadata": {},
   "outputs": [],
   "source": []
  }
 ],
 "metadata": {
  "kernelspec": {
   "display_name": "Python 3 (ipykernel)",
   "language": "python",
   "name": "python3"
  },
  "language_info": {
   "codemirror_mode": {
    "name": "ipython",
    "version": 3
   },
   "file_extension": ".py",
   "mimetype": "text/x-python",
   "name": "python",
   "nbconvert_exporter": "python",
   "pygments_lexer": "ipython3",
   "version": "3.9.7"
  }
 },
 "nbformat": 4,
 "nbformat_minor": 5
}
